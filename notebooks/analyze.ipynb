{
 "cells": [
  {
   "cell_type": "code",
   "execution_count": 56,
   "metadata": {},
   "outputs": [],
   "source": [
    "from typing import List\n",
    "import pandas as pd\n",
    "import os"
   ]
  },
  {
   "cell_type": "code",
   "execution_count": 2,
   "metadata": {},
   "outputs": [
    {
     "data": {
      "text/plain": [
       "'\\nBusiness questions:\\n\\nTrends in remote work preferences and job flexibility.\\nDeveloper well-being and mental health.\\nWork-life balance and working hours.\\nDeveloper role stability.\\n\\n'"
      ]
     },
     "execution_count": 2,
     "metadata": {},
     "output_type": "execute_result"
    }
   ],
   "source": [
    "\"\"\"\n",
    "Business questions:\n",
    "\n",
    "Trends in remote work preferences.\n",
    "    - 2019, 2020 covid -> ?\n",
    "    - dependencies on \n",
    "\n",
    "Gender and sexual orientation\n",
    "    - trends, changes between years\n",
    "    - dependency on country\n",
    "\n",
    "Most used programming languages based on country (eastern europe).\n",
    "    - dependancy on work experience, industry, gender\n",
    "    \n",
    "\n",
    "Not (because of data):\n",
    "    - developer well-being, mental health,\n",
    "    - work-life balance, working hours,\n",
    "    - developer role stability,\n",
    "\"\"\""
   ]
  },
  {
   "cell_type": "code",
   "execution_count": 10,
   "metadata": {},
   "outputs": [
    {
     "name": "stderr",
     "output_type": "stream",
     "text": [
      "/tmp/ipykernel_295148/2763609952.py:3: DtypeWarning: Columns (46,48,62) have mixed types. Specify dtype option on import or set low_memory=False.\n",
      "  data_2013 = pd.read_csv(f\"{os.getcwd()}/data/2013.csv\")\n",
      "/tmp/ipykernel_295148/2763609952.py:5: DtypeWarning: Columns (5,108,121,196,197,198) have mixed types. Specify dtype option on import or set low_memory=False.\n",
      "  data_2015 = pd.read_csv(f\"{os.getcwd()}/data/2015.csv\")\n",
      "/tmp/ipykernel_295148/2763609952.py:8: DtypeWarning: Columns (8,12,13,14,15,16,50,51,52,53,55,56,57,58,59,60,61,62,63,64,65,66,67,68,69,70,71,72,73,74,75,76,77,78,79,80,81,82,83,84,85,93,94,95,96,97,98,99,100,101,102,103,104,105,106,107,108,109,110,111,112,113,114,115,116,117,118,119,120,121,122,123,124,125,126,127,128) have mixed types. Specify dtype option on import or set low_memory=False.\n",
      "  data_2018 = pd.read_csv(f\"{os.getcwd()}/data/2018.csv\")\n"
     ]
    }
   ],
   "source": [
    "data_2013 = pd.read_csv(f\"{os.getcwd()}/data/2013.csv\")\n",
    "data_2014 = pd.read_csv(f\"{os.getcwd()}/data/2014.csv\")\n",
    "data_2015 = pd.read_csv(f\"{os.getcwd()}/data/2015.csv\")\n",
    "data_2016 = pd.read_csv(f\"{os.getcwd()}/data/2016.csv\")\n",
    "data_2017 = pd.read_csv(f\"{os.getcwd()}/data/2017.csv\")\n",
    "data_2018 = pd.read_csv(f\"{os.getcwd()}/data/2018.csv\")\n",
    "data_2019 = pd.read_csv(f\"{os.getcwd()}/data/2019.csv\")\n",
    "data_2020 = pd.read_csv(f\"{os.getcwd()}/data/2020.csv\")\n",
    "data_2021 = pd.read_csv(f\"{os.getcwd()}/data/2021.csv\")\n",
    "data_2022 = pd.read_csv(f\"{os.getcwd()}/data/2022.csv\")\n",
    "data_2023 = pd.read_csv(f\"{os.getcwd()}/data/2023.csv\")\n",
    "data_2024 = pd.read_csv(f\"{os.getcwd()}/data/2024.csv\")"
   ]
  },
  {
   "cell_type": "code",
   "execution_count": 41,
   "metadata": {},
   "outputs": [],
   "source": [
    "data = {\n",
    "    2013: data_2013,\n",
    "    2014: data_2014,\n",
    "    2015: data_2015,\n",
    "    2016: data_2016,\n",
    "    2017: data_2017,\n",
    "    2018: data_2018,\n",
    "    2019: data_2019,\n",
    "    2020: data_2020,\n",
    "    2021: data_2021,\n",
    "    2022: data_2022,\n",
    "    2023: data_2023,\n",
    "    2024: data_2024,\n",
    "}"
   ]
  },
  {
   "cell_type": "code",
   "execution_count": 57,
   "metadata": {},
   "outputs": [],
   "source": [
    "def search_for_columns_with_keyword(keywords: List[str]) -> None:\n",
    "    return {\n",
    "        key: [col for col in data[key].columns if any(keyword in col.lower() for keyword in keywords)]\n",
    "        for key in data\n",
    "        if any(keyword in col.lower() for col in data[key].columns for keyword in keywords)\n",
    "    }"
   ]
  },
  {
   "cell_type": "code",
   "execution_count": 60,
   "metadata": {},
   "outputs": [
    {
     "data": {
      "text/plain": [
       "{2014: ['Do you work remotely?',\n",
       "  'Do you enjoy working remotely?',\n",
       "  'Where do you work remotely most of the time?'],\n",
       " 2015: ['Remote Status',\n",
       "  'Most important aspect of new job opportunity: Remote working',\n",
       "  'How important is remote when evaluating new job opportunity?',\n",
       "  'How can companies improve interview process: Remote interviews'],\n",
       " 2016: ['remote'],\n",
       " 2017: ['HomeRemote', 'AssessJobRemote', 'CollaborateRemote'],\n",
       " 2019: ['WorkRemote'],\n",
       " 2022: ['RemoteWork'],\n",
       " 2023: ['RemoteWork'],\n",
       " 2024: ['RemoteWork']}"
      ]
     },
     "execution_count": 60,
     "metadata": {},
     "output_type": "execute_result"
    }
   ],
   "source": [
    "search_for_columns_with_keyword([\"home\", \"remote\"])"
   ]
  },
  {
   "cell_type": "code",
   "execution_count": 70,
   "metadata": {},
   "outputs": [
    {
     "data": {
      "text/plain": [
       "{2014: ['What is your gender?'],\n",
       " 2015: ['Gender'],\n",
       " 2016: ['gender'],\n",
       " 2017: ['Gender'],\n",
       " 2018: ['Gender', 'SexualOrientation'],\n",
       " 2019: ['Gender', 'Sexuality'],\n",
       " 2020: ['Gender', 'Sexuality'],\n",
       " 2021: ['Gender', 'Sexuality'],\n",
       " 2022: ['Gender', 'Sexuality']}"
      ]
     },
     "execution_count": 70,
     "metadata": {},
     "output_type": "execute_result"
    }
   ],
   "source": [
    "search_for_columns_with_keyword([\"gender\", \"sex\"])"
   ]
  },
  {
   "cell_type": "code",
   "execution_count": 71,
   "metadata": {},
   "outputs": [
    {
     "data": {
      "text/plain": [
       "{2013: ['Which of the following languages or technologies have you used significantly in the past year?'],\n",
       " 2014: ['Which of the following languages or technologies have you used significantly in the past year?'],\n",
       " 2017: ['HaveWorkedLanguage', 'WantWorkLanguage'],\n",
       " 2018: ['LanguageWorkedWith', 'LanguageDesireNextYear'],\n",
       " 2019: ['LanguageWorkedWith', 'LanguageDesireNextYear'],\n",
       " 2020: ['LanguageDesireNextYear', 'LanguageWorkedWith'],\n",
       " 2021: ['LanguageHaveWorkedWith', 'LanguageWantToWorkWith'],\n",
       " 2022: ['LanguageHaveWorkedWith', 'LanguageWantToWorkWith'],\n",
       " 2023: ['LanguageHaveWorkedWith', 'LanguageWantToWorkWith'],\n",
       " 2024: ['LanguageHaveWorkedWith', 'LanguageWantToWorkWith', 'LanguageAdmired']}"
      ]
     },
     "execution_count": 71,
     "metadata": {},
     "output_type": "execute_result"
    }
   ],
   "source": [
    "search_for_columns_with_keyword([\"language\"])"
   ]
  },
  {
   "cell_type": "code",
   "execution_count": 72,
   "metadata": {},
   "outputs": [
    {
     "data": {
      "text/plain": [
       "{2013: ['What Country or Region do you live in?'],\n",
       " 2014: ['What Country do you live in?'],\n",
       " 2015: ['Country'],\n",
       " 2016: ['country'],\n",
       " 2017: ['Country'],\n",
       " 2018: ['Country'],\n",
       " 2019: ['Country'],\n",
       " 2020: ['Country'],\n",
       " 2021: ['Country', 'UK_Country'],\n",
       " 2022: ['Country'],\n",
       " 2023: ['Country'],\n",
       " 2024: ['Country']}"
      ]
     },
     "execution_count": 72,
     "metadata": {},
     "output_type": "execute_result"
    }
   ],
   "source": [
    "search_for_columns_with_keyword([\"country\"])"
   ]
  },
  {
   "cell_type": "code",
   "execution_count": 103,
   "metadata": {},
   "outputs": [
    {
     "data": {
      "text/plain": [
       "{2013: ['How many years of IT/Programming experience do you have?',\n",
       "  'What is your budget for outside expenditures (hardware, software, consulting, etc) for 2013?'],\n",
       " 2014: ['How many years of IT/Programming experience do you have?',\n",
       "  'What is your budget for outside expenditures (hardware, software, consulting, etc) for 2014?'],\n",
       " 2015: ['Years IT / Programming Experience',\n",
       "  'Why use Stack Overflow: Demonstrate expertise',\n",
       "  'Why answer: Demonstrate expertise'],\n",
       " 2016: ['experience_range', 'experience_midpoint'],\n",
       " 2017: ['AssessJobExp',\n",
       "  'ImportantHiringTechExp',\n",
       "  'ImportantHiringPMExp',\n",
       "  'ExpectedSalary'],\n",
       " 2022: ['WorkExp'],\n",
       " 2023: ['WorkExp'],\n",
       " 2024: ['WorkExp']}"
      ]
     },
     "execution_count": 103,
     "metadata": {},
     "output_type": "execute_result"
    }
   ],
   "source": [
    "search_for_columns_with_keyword([\"exp\"])"
   ]
  },
  {
   "cell_type": "code",
   "execution_count": 108,
   "metadata": {},
   "outputs": [
    {
     "data": {
      "text/plain": [
       "{2013: ['How would you best describe the industry you currently work in?'],\n",
       " 2014: ['How would you best describe the industry you currently work in?'],\n",
       " 2015: ['Training & Education: Industry certification',\n",
       "  'Industry',\n",
       "  'Most important aspect of new job opportunity: Industry'],\n",
       " 2016: ['industry'],\n",
       " 2017: ['AssessJobIndustry'],\n",
       " 2023: ['Industry'],\n",
       " 2024: ['Industry']}"
      ]
     },
     "execution_count": 108,
     "metadata": {},
     "output_type": "execute_result"
    }
   ],
   "source": [
    "search_for_columns_with_keyword([\"industr\"])"
   ]
  },
  {
   "cell_type": "code",
   "execution_count": 102,
   "metadata": {},
   "outputs": [
    {
     "data": {
      "text/plain": [
       "['AIAcc',\n",
       " 'AIBen',\n",
       " 'AIChallenges',\n",
       " 'AIComplex',\n",
       " 'AIEthics',\n",
       " 'AINextLess integrated',\n",
       " 'AINextMore integrated',\n",
       " 'AINextMuch less integrated',\n",
       " 'AINextMuch more integrated',\n",
       " 'AINextNo change',\n",
       " 'AISearchDevAdmired',\n",
       " 'AISearchDevHaveWorkedWith',\n",
       " 'AISearchDevWantToWorkWith',\n",
       " 'AISelect',\n",
       " 'AISent',\n",
       " 'AIThreat',\n",
       " 'AIToolCurrently Using',\n",
       " 'AIToolInterested in Using',\n",
       " 'AIToolNot interested in Using',\n",
       " 'Age',\n",
       " 'BuildvsBuy',\n",
       " 'BuyNewTool',\n",
       " 'Check',\n",
       " 'CodingActivities',\n",
       " 'CompTotal',\n",
       " 'ConvertedCompYearly',\n",
       " 'Country',\n",
       " 'Currency',\n",
       " 'DatabaseAdmired',\n",
       " 'DatabaseHaveWorkedWith',\n",
       " 'DatabaseWantToWorkWith',\n",
       " 'DevType',\n",
       " 'EdLevel',\n",
       " 'EmbeddedAdmired',\n",
       " 'EmbeddedHaveWorkedWith',\n",
       " 'EmbeddedWantToWorkWith',\n",
       " 'Employment',\n",
       " 'Frequency_1',\n",
       " 'Frequency_2',\n",
       " 'Frequency_3',\n",
       " 'Frustration',\n",
       " 'ICorPM',\n",
       " 'Industry',\n",
       " 'JobSat',\n",
       " 'JobSatPoints_1',\n",
       " 'JobSatPoints_10',\n",
       " 'JobSatPoints_11',\n",
       " 'JobSatPoints_4',\n",
       " 'JobSatPoints_5',\n",
       " 'JobSatPoints_6',\n",
       " 'JobSatPoints_7',\n",
       " 'JobSatPoints_8',\n",
       " 'JobSatPoints_9',\n",
       " 'Knowledge_1',\n",
       " 'Knowledge_2',\n",
       " 'Knowledge_3',\n",
       " 'Knowledge_4',\n",
       " 'Knowledge_5',\n",
       " 'Knowledge_6',\n",
       " 'Knowledge_7',\n",
       " 'Knowledge_8',\n",
       " 'Knowledge_9',\n",
       " 'LanguageAdmired',\n",
       " 'LanguageHaveWorkedWith',\n",
       " 'LanguageWantToWorkWith',\n",
       " 'LearnCode',\n",
       " 'LearnCodeOnline',\n",
       " 'MainBranch',\n",
       " 'MiscTechAdmired',\n",
       " 'MiscTechHaveWorkedWith',\n",
       " 'MiscTechWantToWorkWith',\n",
       " 'NEWCollabToolsAdmired',\n",
       " 'NEWCollabToolsHaveWorkedWith',\n",
       " 'NEWCollabToolsWantToWorkWith',\n",
       " 'NEWSOSites',\n",
       " 'OfficeStackAsyncAdmired',\n",
       " 'OfficeStackAsyncHaveWorkedWith',\n",
       " 'OfficeStackAsyncWantToWorkWith',\n",
       " 'OfficeStackSyncAdmired',\n",
       " 'OfficeStackSyncHaveWorkedWith',\n",
       " 'OfficeStackSyncWantToWorkWith',\n",
       " 'OpSysPersonal use',\n",
       " 'OpSysProfessional use',\n",
       " 'OrgSize',\n",
       " 'PlatformAdmired',\n",
       " 'PlatformHaveWorkedWith',\n",
       " 'PlatformWantToWorkWith',\n",
       " 'ProfessionalCloud',\n",
       " 'ProfessionalQuestion',\n",
       " 'ProfessionalTech',\n",
       " 'PurchaseInfluence',\n",
       " 'RemoteWork',\n",
       " 'ResponseId',\n",
       " 'SOAccount',\n",
       " 'SOComm',\n",
       " 'SOHow',\n",
       " 'SOPartFreq',\n",
       " 'SOVisitFreq',\n",
       " 'SurveyEase',\n",
       " 'SurveyLength',\n",
       " 'TBranch',\n",
       " 'TechDoc',\n",
       " 'TechEndorse',\n",
       " 'TimeAnswering',\n",
       " 'TimeSearching',\n",
       " 'ToolsTechAdmired',\n",
       " 'ToolsTechHaveWorkedWith',\n",
       " 'ToolsTechWantToWorkWith',\n",
       " 'WebframeAdmired',\n",
       " 'WebframeHaveWorkedWith',\n",
       " 'WebframeWantToWorkWith',\n",
       " 'WorkExp',\n",
       " 'YearsCode',\n",
       " 'YearsCodePro']"
      ]
     },
     "execution_count": 102,
     "metadata": {},
     "output_type": "execute_result"
    }
   ],
   "source": [
    "sorted(data_2024.columns.tolist())"
   ]
  }
 ],
 "metadata": {
  "kernelspec": {
   "display_name": "udacity-data-science-blog-Zng19CgO-py3.10",
   "language": "python",
   "name": "python3"
  },
  "language_info": {
   "codemirror_mode": {
    "name": "ipython",
    "version": 3
   },
   "file_extension": ".py",
   "mimetype": "text/x-python",
   "name": "python",
   "nbconvert_exporter": "python",
   "pygments_lexer": "ipython3",
   "version": "3.10.12"
  }
 },
 "nbformat": 4,
 "nbformat_minor": 2
}
